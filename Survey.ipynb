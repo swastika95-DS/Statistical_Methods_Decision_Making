{
 "cells": [
  {
   "cell_type": "code",
   "execution_count": 12,
   "metadata": {
    "ExecuteTime": {
     "end_time": "2020-08-08T22:58:37.068685Z",
     "start_time": "2020-08-08T22:58:11.834965Z"
    }
   },
   "outputs": [],
   "source": [
    "import numpy as np\n",
    "import pandas as pd\n",
    "from scipy.stats import f\n",
    "import matplotlib.pyplot as plt \n",
    "%matplotlib inline\n",
    "import seaborn as sns\n",
    "import scipy.stats as stats\n",
    "from scipy.stats import ttest_1samp, ttest_ind\n",
    "from statsmodels.stats.power import ttest_power\n",
    "import statsmodels.api as sm\n",
    "import pylab"
   ]
  },
  {
   "cell_type": "code",
   "execution_count": 13,
   "metadata": {
    "ExecuteTime": {
     "end_time": "2020-08-08T22:58:37.258211Z",
     "start_time": "2020-08-08T22:58:37.139496Z"
    }
   },
   "outputs": [],
   "source": [
    "df = pd.read_csv('Survey.csv')"
   ]
  },
  {
   "cell_type": "code",
   "execution_count": 6,
   "metadata": {
    "ExecuteTime": {
     "end_time": "2020-08-03T07:43:20.005920Z",
     "start_time": "2020-08-03T07:43:19.939201Z"
    }
   },
   "outputs": [
    {
     "data": {
      "text/html": [
       "<div>\n",
       "<style scoped>\n",
       "    .dataframe tbody tr th:only-of-type {\n",
       "        vertical-align: middle;\n",
       "    }\n",
       "\n",
       "    .dataframe tbody tr th {\n",
       "        vertical-align: top;\n",
       "    }\n",
       "\n",
       "    .dataframe thead th {\n",
       "        text-align: right;\n",
       "    }\n",
       "</style>\n",
       "<table border=\"1\" class=\"dataframe\">\n",
       "  <thead>\n",
       "    <tr style=\"text-align: right;\">\n",
       "      <th></th>\n",
       "      <th>ID</th>\n",
       "      <th>Gender</th>\n",
       "      <th>Age</th>\n",
       "      <th>Class</th>\n",
       "      <th>Major</th>\n",
       "      <th>Grad Intention</th>\n",
       "      <th>GPA</th>\n",
       "      <th>Employment</th>\n",
       "      <th>Salary</th>\n",
       "      <th>Social Networking</th>\n",
       "      <th>Satisfaction</th>\n",
       "      <th>Spending</th>\n",
       "      <th>Computer</th>\n",
       "      <th>Text Messages</th>\n",
       "    </tr>\n",
       "  </thead>\n",
       "  <tbody>\n",
       "    <tr>\n",
       "      <th>0</th>\n",
       "      <td>1</td>\n",
       "      <td>Female</td>\n",
       "      <td>20</td>\n",
       "      <td>Junior</td>\n",
       "      <td>Other</td>\n",
       "      <td>Yes</td>\n",
       "      <td>2.9</td>\n",
       "      <td>Full-Time</td>\n",
       "      <td>50.0</td>\n",
       "      <td>1</td>\n",
       "      <td>3</td>\n",
       "      <td>350</td>\n",
       "      <td>Laptop</td>\n",
       "      <td>200</td>\n",
       "    </tr>\n",
       "    <tr>\n",
       "      <th>1</th>\n",
       "      <td>2</td>\n",
       "      <td>Male</td>\n",
       "      <td>23</td>\n",
       "      <td>Senior</td>\n",
       "      <td>Management</td>\n",
       "      <td>Yes</td>\n",
       "      <td>3.6</td>\n",
       "      <td>Part-Time</td>\n",
       "      <td>25.0</td>\n",
       "      <td>1</td>\n",
       "      <td>4</td>\n",
       "      <td>360</td>\n",
       "      <td>Laptop</td>\n",
       "      <td>50</td>\n",
       "    </tr>\n",
       "    <tr>\n",
       "      <th>2</th>\n",
       "      <td>3</td>\n",
       "      <td>Male</td>\n",
       "      <td>21</td>\n",
       "      <td>Junior</td>\n",
       "      <td>Other</td>\n",
       "      <td>Yes</td>\n",
       "      <td>2.5</td>\n",
       "      <td>Part-Time</td>\n",
       "      <td>45.0</td>\n",
       "      <td>2</td>\n",
       "      <td>4</td>\n",
       "      <td>600</td>\n",
       "      <td>Laptop</td>\n",
       "      <td>200</td>\n",
       "    </tr>\n",
       "    <tr>\n",
       "      <th>3</th>\n",
       "      <td>4</td>\n",
       "      <td>Male</td>\n",
       "      <td>21</td>\n",
       "      <td>Junior</td>\n",
       "      <td>CIS</td>\n",
       "      <td>Yes</td>\n",
       "      <td>2.5</td>\n",
       "      <td>Full-Time</td>\n",
       "      <td>40.0</td>\n",
       "      <td>4</td>\n",
       "      <td>6</td>\n",
       "      <td>600</td>\n",
       "      <td>Laptop</td>\n",
       "      <td>250</td>\n",
       "    </tr>\n",
       "    <tr>\n",
       "      <th>4</th>\n",
       "      <td>5</td>\n",
       "      <td>Male</td>\n",
       "      <td>23</td>\n",
       "      <td>Senior</td>\n",
       "      <td>Other</td>\n",
       "      <td>Undecided</td>\n",
       "      <td>2.8</td>\n",
       "      <td>Unemployed</td>\n",
       "      <td>40.0</td>\n",
       "      <td>2</td>\n",
       "      <td>4</td>\n",
       "      <td>500</td>\n",
       "      <td>Laptop</td>\n",
       "      <td>100</td>\n",
       "    </tr>\n",
       "  </tbody>\n",
       "</table>\n",
       "</div>"
      ],
      "text/plain": [
       "   ID  Gender  Age   Class       Major Grad Intention  GPA  Employment  \\\n",
       "0   1  Female   20  Junior       Other            Yes  2.9   Full-Time   \n",
       "1   2    Male   23  Senior  Management            Yes  3.6   Part-Time   \n",
       "2   3    Male   21  Junior       Other            Yes  2.5   Part-Time   \n",
       "3   4    Male   21  Junior         CIS            Yes  2.5   Full-Time   \n",
       "4   5    Male   23  Senior       Other      Undecided  2.8  Unemployed   \n",
       "\n",
       "   Salary  Social Networking  Satisfaction  Spending Computer  Text Messages  \n",
       "0    50.0                  1             3       350   Laptop            200  \n",
       "1    25.0                  1             4       360   Laptop             50  \n",
       "2    45.0                  2             4       600   Laptop            200  \n",
       "3    40.0                  4             6       600   Laptop            250  \n",
       "4    40.0                  2             4       500   Laptop            100  "
      ]
     },
     "execution_count": 6,
     "metadata": {},
     "output_type": "execute_result"
    }
   ],
   "source": [
    "df.head()"
   ]
  },
  {
   "cell_type": "markdown",
   "metadata": {},
   "source": [
    "# Problem 2\n",
    "\n",
    "The Student News Service at Clear Mountain State University (CMSU) has decided to gather data about the undergraduate students that attend CMSU. CMSU creates and distributes a survey of 14 questions and receives responses from 62 undergraduates (stored in the Survey.csv file).\n",
    "\n"
   ]
  },
  {
   "cell_type": "markdown",
   "metadata": {},
   "source": [
    "# Part I\n",
    "\n",
    "2.1. For this data, construct the following contingency tables (Keep Gender as row variable)\n"
   ]
  },
  {
   "cell_type": "markdown",
   "metadata": {},
   "source": [
    "2.1.1. Gender and Major"
   ]
  },
  {
   "cell_type": "code",
   "execution_count": 10,
   "metadata": {
    "ExecuteTime": {
     "end_time": "2020-08-03T07:44:56.072498Z",
     "start_time": "2020-08-03T07:44:56.023629Z"
    }
   },
   "outputs": [
    {
     "data": {
      "text/html": [
       "<div>\n",
       "<style scoped>\n",
       "    .dataframe tbody tr th:only-of-type {\n",
       "        vertical-align: middle;\n",
       "    }\n",
       "\n",
       "    .dataframe tbody tr th {\n",
       "        vertical-align: top;\n",
       "    }\n",
       "\n",
       "    .dataframe thead th {\n",
       "        text-align: right;\n",
       "    }\n",
       "</style>\n",
       "<table border=\"1\" class=\"dataframe\">\n",
       "  <thead>\n",
       "    <tr style=\"text-align: right;\">\n",
       "      <th>Major</th>\n",
       "      <th>Accounting</th>\n",
       "      <th>CIS</th>\n",
       "      <th>Economics/Finance</th>\n",
       "      <th>International Business</th>\n",
       "      <th>Management</th>\n",
       "      <th>Other</th>\n",
       "      <th>Retailing/Marketing</th>\n",
       "      <th>Undecided</th>\n",
       "      <th>All</th>\n",
       "    </tr>\n",
       "    <tr>\n",
       "      <th>Gender</th>\n",
       "      <th></th>\n",
       "      <th></th>\n",
       "      <th></th>\n",
       "      <th></th>\n",
       "      <th></th>\n",
       "      <th></th>\n",
       "      <th></th>\n",
       "      <th></th>\n",
       "      <th></th>\n",
       "    </tr>\n",
       "  </thead>\n",
       "  <tbody>\n",
       "    <tr>\n",
       "      <th>Female</th>\n",
       "      <td>3</td>\n",
       "      <td>3</td>\n",
       "      <td>7</td>\n",
       "      <td>4</td>\n",
       "      <td>4</td>\n",
       "      <td>3</td>\n",
       "      <td>9</td>\n",
       "      <td>0</td>\n",
       "      <td>33</td>\n",
       "    </tr>\n",
       "    <tr>\n",
       "      <th>Male</th>\n",
       "      <td>4</td>\n",
       "      <td>1</td>\n",
       "      <td>4</td>\n",
       "      <td>2</td>\n",
       "      <td>6</td>\n",
       "      <td>4</td>\n",
       "      <td>5</td>\n",
       "      <td>3</td>\n",
       "      <td>29</td>\n",
       "    </tr>\n",
       "    <tr>\n",
       "      <th>All</th>\n",
       "      <td>7</td>\n",
       "      <td>4</td>\n",
       "      <td>11</td>\n",
       "      <td>6</td>\n",
       "      <td>10</td>\n",
       "      <td>7</td>\n",
       "      <td>14</td>\n",
       "      <td>3</td>\n",
       "      <td>62</td>\n",
       "    </tr>\n",
       "  </tbody>\n",
       "</table>\n",
       "</div>"
      ],
      "text/plain": [
       "Major   Accounting  CIS  Economics/Finance  International Business  \\\n",
       "Gender                                                               \n",
       "Female           3    3                  7                       4   \n",
       "Male             4    1                  4                       2   \n",
       "All              7    4                 11                       6   \n",
       "\n",
       "Major   Management  Other  Retailing/Marketing  Undecided  All  \n",
       "Gender                                                          \n",
       "Female           4      3                    9          0   33  \n",
       "Male             6      4                    5          3   29  \n",
       "All             10      7                   14          3   62  "
      ]
     },
     "execution_count": 10,
     "metadata": {},
     "output_type": "execute_result"
    }
   ],
   "source": [
    "df_crosstab = pd.crosstab(df.Gender,df['Major'],margins=True)\n",
    "df_crosstab"
   ]
  },
  {
   "cell_type": "markdown",
   "metadata": {},
   "source": [
    "2.1.2. Gender and Grad Intention"
   ]
  },
  {
   "cell_type": "code",
   "execution_count": 15,
   "metadata": {
    "ExecuteTime": {
     "end_time": "2020-08-03T07:48:48.324344Z",
     "start_time": "2020-08-03T07:48:48.278467Z"
    }
   },
   "outputs": [
    {
     "data": {
      "text/html": [
       "<div>\n",
       "<style scoped>\n",
       "    .dataframe tbody tr th:only-of-type {\n",
       "        vertical-align: middle;\n",
       "    }\n",
       "\n",
       "    .dataframe tbody tr th {\n",
       "        vertical-align: top;\n",
       "    }\n",
       "\n",
       "    .dataframe thead th {\n",
       "        text-align: right;\n",
       "    }\n",
       "</style>\n",
       "<table border=\"1\" class=\"dataframe\">\n",
       "  <thead>\n",
       "    <tr style=\"text-align: right;\">\n",
       "      <th>Grad Intention</th>\n",
       "      <th>No</th>\n",
       "      <th>Undecided</th>\n",
       "      <th>Yes</th>\n",
       "      <th>All</th>\n",
       "    </tr>\n",
       "    <tr>\n",
       "      <th>Gender</th>\n",
       "      <th></th>\n",
       "      <th></th>\n",
       "      <th></th>\n",
       "      <th></th>\n",
       "    </tr>\n",
       "  </thead>\n",
       "  <tbody>\n",
       "    <tr>\n",
       "      <th>Female</th>\n",
       "      <td>9</td>\n",
       "      <td>13</td>\n",
       "      <td>11</td>\n",
       "      <td>33</td>\n",
       "    </tr>\n",
       "    <tr>\n",
       "      <th>Male</th>\n",
       "      <td>3</td>\n",
       "      <td>9</td>\n",
       "      <td>17</td>\n",
       "      <td>29</td>\n",
       "    </tr>\n",
       "    <tr>\n",
       "      <th>All</th>\n",
       "      <td>12</td>\n",
       "      <td>22</td>\n",
       "      <td>28</td>\n",
       "      <td>62</td>\n",
       "    </tr>\n",
       "  </tbody>\n",
       "</table>\n",
       "</div>"
      ],
      "text/plain": [
       "Grad Intention  No  Undecided  Yes  All\n",
       "Gender                                 \n",
       "Female           9         13   11   33\n",
       "Male             3          9   17   29\n",
       "All             12         22   28   62"
      ]
     },
     "execution_count": 15,
     "metadata": {},
     "output_type": "execute_result"
    }
   ],
   "source": [
    "df_crosstab1 = pd.crosstab(df.Gender,df['Grad Intention'],margins=True)\n",
    "df_crosstab1"
   ]
  },
  {
   "cell_type": "markdown",
   "metadata": {},
   "source": [
    "2.1.3. Gender and Employment"
   ]
  },
  {
   "cell_type": "code",
   "execution_count": 14,
   "metadata": {
    "ExecuteTime": {
     "end_time": "2020-08-03T07:48:31.088700Z",
     "start_time": "2020-08-03T07:48:31.045332Z"
    }
   },
   "outputs": [
    {
     "data": {
      "text/html": [
       "<div>\n",
       "<style scoped>\n",
       "    .dataframe tbody tr th:only-of-type {\n",
       "        vertical-align: middle;\n",
       "    }\n",
       "\n",
       "    .dataframe tbody tr th {\n",
       "        vertical-align: top;\n",
       "    }\n",
       "\n",
       "    .dataframe thead th {\n",
       "        text-align: right;\n",
       "    }\n",
       "</style>\n",
       "<table border=\"1\" class=\"dataframe\">\n",
       "  <thead>\n",
       "    <tr style=\"text-align: right;\">\n",
       "      <th>Employment</th>\n",
       "      <th>Full-Time</th>\n",
       "      <th>Part-Time</th>\n",
       "      <th>Unemployed</th>\n",
       "      <th>All</th>\n",
       "    </tr>\n",
       "    <tr>\n",
       "      <th>Gender</th>\n",
       "      <th></th>\n",
       "      <th></th>\n",
       "      <th></th>\n",
       "      <th></th>\n",
       "    </tr>\n",
       "  </thead>\n",
       "  <tbody>\n",
       "    <tr>\n",
       "      <th>Female</th>\n",
       "      <td>3</td>\n",
       "      <td>24</td>\n",
       "      <td>6</td>\n",
       "      <td>33</td>\n",
       "    </tr>\n",
       "    <tr>\n",
       "      <th>Male</th>\n",
       "      <td>7</td>\n",
       "      <td>19</td>\n",
       "      <td>3</td>\n",
       "      <td>29</td>\n",
       "    </tr>\n",
       "    <tr>\n",
       "      <th>All</th>\n",
       "      <td>10</td>\n",
       "      <td>43</td>\n",
       "      <td>9</td>\n",
       "      <td>62</td>\n",
       "    </tr>\n",
       "  </tbody>\n",
       "</table>\n",
       "</div>"
      ],
      "text/plain": [
       "Employment  Full-Time  Part-Time  Unemployed  All\n",
       "Gender                                           \n",
       "Female              3         24           6   33\n",
       "Male                7         19           3   29\n",
       "All                10         43           9   62"
      ]
     },
     "execution_count": 14,
     "metadata": {},
     "output_type": "execute_result"
    }
   ],
   "source": [
    "df_crosstab2 = pd.crosstab(df.Gender,df['Employment'],margins=True)\n",
    "df_crosstab2"
   ]
  },
  {
   "cell_type": "markdown",
   "metadata": {},
   "source": [
    "2.1.4. Gender and Computer"
   ]
  },
  {
   "cell_type": "code",
   "execution_count": 16,
   "metadata": {
    "ExecuteTime": {
     "end_time": "2020-08-03T07:49:05.012592Z",
     "start_time": "2020-08-03T07:49:04.968701Z"
    }
   },
   "outputs": [
    {
     "data": {
      "text/html": [
       "<div>\n",
       "<style scoped>\n",
       "    .dataframe tbody tr th:only-of-type {\n",
       "        vertical-align: middle;\n",
       "    }\n",
       "\n",
       "    .dataframe tbody tr th {\n",
       "        vertical-align: top;\n",
       "    }\n",
       "\n",
       "    .dataframe thead th {\n",
       "        text-align: right;\n",
       "    }\n",
       "</style>\n",
       "<table border=\"1\" class=\"dataframe\">\n",
       "  <thead>\n",
       "    <tr style=\"text-align: right;\">\n",
       "      <th>Computer</th>\n",
       "      <th>Desktop</th>\n",
       "      <th>Laptop</th>\n",
       "      <th>Tablet</th>\n",
       "      <th>All</th>\n",
       "    </tr>\n",
       "    <tr>\n",
       "      <th>Gender</th>\n",
       "      <th></th>\n",
       "      <th></th>\n",
       "      <th></th>\n",
       "      <th></th>\n",
       "    </tr>\n",
       "  </thead>\n",
       "  <tbody>\n",
       "    <tr>\n",
       "      <th>Female</th>\n",
       "      <td>2</td>\n",
       "      <td>29</td>\n",
       "      <td>2</td>\n",
       "      <td>33</td>\n",
       "    </tr>\n",
       "    <tr>\n",
       "      <th>Male</th>\n",
       "      <td>3</td>\n",
       "      <td>26</td>\n",
       "      <td>0</td>\n",
       "      <td>29</td>\n",
       "    </tr>\n",
       "    <tr>\n",
       "      <th>All</th>\n",
       "      <td>5</td>\n",
       "      <td>55</td>\n",
       "      <td>2</td>\n",
       "      <td>62</td>\n",
       "    </tr>\n",
       "  </tbody>\n",
       "</table>\n",
       "</div>"
      ],
      "text/plain": [
       "Computer  Desktop  Laptop  Tablet  All\n",
       "Gender                                \n",
       "Female          2      29       2   33\n",
       "Male            3      26       0   29\n",
       "All             5      55       2   62"
      ]
     },
     "execution_count": 16,
     "metadata": {},
     "output_type": "execute_result"
    }
   ],
   "source": [
    "df_crosstab3 = pd.crosstab(df.Gender,df['Computer'],margins=True)\n",
    "df_crosstab3"
   ]
  },
  {
   "cell_type": "markdown",
   "metadata": {},
   "source": [
    "2.2. Assume that the sample is a representative of the population of CMSU. Based on the data, answer the following questions:"
   ]
  },
  {
   "cell_type": "markdown",
   "metadata": {},
   "source": [
    "2.2.1. What is the probability that a randomly selected CMSU student will be male?\n",
    "What is the probability that a randomly selected CMSU student will be female?"
   ]
  },
  {
   "cell_type": "code",
   "execution_count": 17,
   "metadata": {
    "ExecuteTime": {
     "end_time": "2020-08-03T08:05:28.623365Z",
     "start_time": "2020-08-03T08:05:28.615380Z"
    }
   },
   "outputs": [
    {
     "data": {
      "text/plain": [
       "Female    33\n",
       "Male      29\n",
       "Name: Gender, dtype: int64"
      ]
     },
     "execution_count": 17,
     "metadata": {},
     "output_type": "execute_result"
    }
   ],
   "source": [
    "df['Gender'].value_counts()"
   ]
  },
  {
   "cell_type": "code",
   "execution_count": 48,
   "metadata": {
    "ExecuteTime": {
     "end_time": "2020-08-03T13:33:13.309499Z",
     "start_time": "2020-08-03T13:33:13.294537Z"
    }
   },
   "outputs": [
    {
     "name": "stdout",
     "output_type": "stream",
     "text": [
      "P(Randomly selected CMSU student will be female): 53.2258064516129 %\n"
     ]
    }
   ],
   "source": [
    "No_of_women_present = 33\n",
    "Total_population_of_survey = 62\n",
    "Probability = No_of_women_present/Total_population_of_survey\n",
    "print('P(Randomly selected CMSU student will be female):',Probability*100,'%')"
   ]
  },
  {
   "cell_type": "code",
   "execution_count": 22,
   "metadata": {
    "ExecuteTime": {
     "end_time": "2020-08-03T09:34:28.705221Z",
     "start_time": "2020-08-03T09:34:28.691234Z"
    }
   },
   "outputs": [
    {
     "name": "stdout",
     "output_type": "stream",
     "text": [
      "P(Randomly selected CMSU student will be male): 46.774193548387096 %\n"
     ]
    }
   ],
   "source": [
    "No_of_men_present = 29\n",
    "Total_population_of_survey = 62\n",
    "Probability = No_of_men_present/Total_population_of_survey\n",
    "print('P(Randomly selected CMSU student will be male):',Probability*100,'%')"
   ]
  },
  {
   "cell_type": "markdown",
   "metadata": {},
   "source": [
    "2.2.2. Find the conditional probability of different majors among the male students in CMSU.\n",
    "Find the conditional probability of different majors among the female students of CMSU."
   ]
  },
  {
   "cell_type": "code",
   "execution_count": 23,
   "metadata": {
    "ExecuteTime": {
     "end_time": "2020-08-03T09:36:31.099340Z",
     "start_time": "2020-08-03T09:36:30.996826Z"
    }
   },
   "outputs": [
    {
     "data": {
      "text/html": [
       "<div>\n",
       "<style scoped>\n",
       "    .dataframe tbody tr th:only-of-type {\n",
       "        vertical-align: middle;\n",
       "    }\n",
       "\n",
       "    .dataframe tbody tr th {\n",
       "        vertical-align: top;\n",
       "    }\n",
       "\n",
       "    .dataframe thead th {\n",
       "        text-align: right;\n",
       "    }\n",
       "</style>\n",
       "<table border=\"1\" class=\"dataframe\">\n",
       "  <thead>\n",
       "    <tr style=\"text-align: right;\">\n",
       "      <th></th>\n",
       "      <th>Major</th>\n",
       "      <th>Gender</th>\n",
       "    </tr>\n",
       "    <tr>\n",
       "      <th>Major</th>\n",
       "      <th></th>\n",
       "      <th></th>\n",
       "    </tr>\n",
       "  </thead>\n",
       "  <tbody>\n",
       "    <tr>\n",
       "      <th>Accounting</th>\n",
       "      <td>4</td>\n",
       "      <td>4</td>\n",
       "    </tr>\n",
       "    <tr>\n",
       "      <th>CIS</th>\n",
       "      <td>1</td>\n",
       "      <td>1</td>\n",
       "    </tr>\n",
       "    <tr>\n",
       "      <th>Economics/Finance</th>\n",
       "      <td>4</td>\n",
       "      <td>4</td>\n",
       "    </tr>\n",
       "    <tr>\n",
       "      <th>International Business</th>\n",
       "      <td>2</td>\n",
       "      <td>2</td>\n",
       "    </tr>\n",
       "    <tr>\n",
       "      <th>Management</th>\n",
       "      <td>6</td>\n",
       "      <td>6</td>\n",
       "    </tr>\n",
       "    <tr>\n",
       "      <th>Other</th>\n",
       "      <td>4</td>\n",
       "      <td>4</td>\n",
       "    </tr>\n",
       "    <tr>\n",
       "      <th>Retailing/Marketing</th>\n",
       "      <td>5</td>\n",
       "      <td>5</td>\n",
       "    </tr>\n",
       "    <tr>\n",
       "      <th>Undecided</th>\n",
       "      <td>3</td>\n",
       "      <td>3</td>\n",
       "    </tr>\n",
       "  </tbody>\n",
       "</table>\n",
       "</div>"
      ],
      "text/plain": [
       "                        Major  Gender\n",
       "Major                                \n",
       "Accounting                  4       4\n",
       "CIS                         1       1\n",
       "Economics/Finance           4       4\n",
       "International Business      2       2\n",
       "Management                  6       6\n",
       "Other                       4       4\n",
       "Retailing/Marketing         5       5\n",
       "Undecided                   3       3"
      ]
     },
     "execution_count": 23,
     "metadata": {},
     "output_type": "execute_result"
    }
   ],
   "source": [
    "df[df['Gender']=='Male'][['Major','Gender']].groupby(df['Major']).count()"
   ]
  },
  {
   "cell_type": "code",
   "execution_count": null,
   "metadata": {},
   "outputs": [],
   "source": []
  },
  {
   "cell_type": "code",
   "execution_count": 162,
   "metadata": {
    "ExecuteTime": {
     "end_time": "2020-08-04T19:24:20.003247Z",
     "start_time": "2020-08-04T19:24:19.991445Z"
    }
   },
   "outputs": [
    {
     "name": "stdout",
     "output_type": "stream",
     "text": [
      "conditional probability of different majors(Accounting) among the male students in CMSU 0.14 %\n"
     ]
    }
   ],
   "source": [
    "Male_students_inGiven_dataset = 29/62\n",
    "Male_students_who_has_chosen_Accounting_as_Major = 4/62\n",
    "Probability_of_choosing_Accounting = Male_students_who_has_chosen_Accounting_as_Major/Male_students_inGiven_dataset\n",
    "print('conditional probability of different majors(Accounting) among the male students in CMSU %1.2f' %Probability_of_choosing_Accounting,'%')"
   ]
  },
  {
   "cell_type": "code",
   "execution_count": 163,
   "metadata": {
    "ExecuteTime": {
     "end_time": "2020-08-04T19:24:33.104421Z",
     "start_time": "2020-08-04T19:24:33.094752Z"
    }
   },
   "outputs": [
    {
     "name": "stdout",
     "output_type": "stream",
     "text": [
      "conditional probability of different majors(CIS) among the male students in CMSU 0.03 %\n"
     ]
    }
   ],
   "source": [
    "Male_students_inGiven_dataset = 29/62\n",
    "Male_students_who_has_chosen_CIS_as_Major = 1/62\n",
    "Probability_of_choosing_CIS = Male_students_who_has_chosen_CIS_as_Major/Male_students_inGiven_dataset\n",
    "print('conditional probability of different majors(CIS) among the male students in CMSU %1.2f' %Probability_of_choosing_CIS,'%')"
   ]
  },
  {
   "cell_type": "code",
   "execution_count": 164,
   "metadata": {
    "ExecuteTime": {
     "end_time": "2020-08-04T19:24:41.295085Z",
     "start_time": "2020-08-04T19:24:41.279440Z"
    }
   },
   "outputs": [
    {
     "name": "stdout",
     "output_type": "stream",
     "text": [
      "conditional probability of different majors(EconomicsOrFinance) among the male students in CMSU 0.14 %\n"
     ]
    }
   ],
   "source": [
    "Male_students_inGiven_dataset = 29/62\n",
    "Male_students_who_has_chosen_EconomicsOrFinance_as_Major = 4/62\n",
    "Probability_of_choosing_EconomicsOrFinance = Male_students_who_has_chosen_EconomicsOrFinance_as_Major/Male_students_inGiven_dataset\n",
    "print('conditional probability of different majors(EconomicsOrFinance) among the male students in CMSU %1.2f' %Probability_of_choosing_EconomicsOrFinance,'%')"
   ]
  },
  {
   "cell_type": "code",
   "execution_count": 165,
   "metadata": {
    "ExecuteTime": {
     "end_time": "2020-08-04T19:24:51.392308Z",
     "start_time": "2020-08-04T19:24:51.371212Z"
    }
   },
   "outputs": [
    {
     "name": "stdout",
     "output_type": "stream",
     "text": [
      "conditional probability of different majors(International Business) among the male students in CMSU 0.07 %\n"
     ]
    }
   ],
   "source": [
    "Male_students_inGiven_dataset = 29/62\n",
    "Male_students_who_has_chosen_International_Business_as_Major = 2/62\n",
    "Probability_of_choosing_International_Business = Male_students_who_has_chosen_International_Business_as_Major/Male_students_inGiven_dataset\n",
    "print('conditional probability of different majors(International Business) among the male students in CMSU %1.2f' %Probability_of_choosing_International_Business,'%')"
   ]
  },
  {
   "cell_type": "code",
   "execution_count": 166,
   "metadata": {
    "ExecuteTime": {
     "end_time": "2020-08-04T19:25:01.534760Z",
     "start_time": "2020-08-04T19:25:01.526402Z"
    }
   },
   "outputs": [
    {
     "name": "stdout",
     "output_type": "stream",
     "text": [
      "conditional probability of different majors(Management) among the male students in CMSU 0.21 %\n"
     ]
    }
   ],
   "source": [
    "Male_students_inGiven_dataset = 29/62\n",
    "Male_students_who_has_chosen_Management_as_Major = 6/62\n",
    "Probability_of_choosing_Management = Male_students_who_has_chosen_Management_as_Major/Male_students_inGiven_dataset\n",
    "print('conditional probability of different majors(Management) among the male students in CMSU %1.2f' %Probability_of_choosing_Management,'%')"
   ]
  },
  {
   "cell_type": "code",
   "execution_count": 167,
   "metadata": {
    "ExecuteTime": {
     "end_time": "2020-08-04T19:25:10.795175Z",
     "start_time": "2020-08-04T19:25:10.789325Z"
    }
   },
   "outputs": [
    {
     "name": "stdout",
     "output_type": "stream",
     "text": [
      "conditional probability of different majors(Other) among the male students in CMSU 0.14 %\n"
     ]
    }
   ],
   "source": [
    "Male_students_inGiven_dataset = 29/62\n",
    "Male_students_who_has_chosen_Other_as_Major = 4/62\n",
    "Probability_of_choosing_Other = Male_students_who_has_chosen_Other_as_Major/Male_students_inGiven_dataset\n",
    "print('conditional probability of different majors(Other) among the male students in CMSU %1.2f' %Probability_of_choosing_Other,'%')"
   ]
  },
  {
   "cell_type": "code",
   "execution_count": 169,
   "metadata": {
    "ExecuteTime": {
     "end_time": "2020-08-04T19:25:40.960886Z",
     "start_time": "2020-08-04T19:25:40.939104Z"
    }
   },
   "outputs": [
    {
     "name": "stdout",
     "output_type": "stream",
     "text": [
      "conditional probability of different majors(Retailing/Marketing) among the male students in CMSU 0.17 %\n"
     ]
    }
   ],
   "source": [
    "Male_students_inGiven_dataset = 29/62\n",
    "Male_students_who_has_chosen_RetailingOrMarketing_as_Major = 5/62\n",
    "Probability_of_choosing_RetailingOrMarketing = Male_students_who_has_chosen_RetailingOrMarketing_as_Major/Male_students_inGiven_dataset\n",
    "print('conditional probability of different majors(Retailing/Marketing) among the male students in CMSU %1.2f' %Probability_of_choosing_RetailingOrMarketing,'%')"
   ]
  },
  {
   "cell_type": "code",
   "execution_count": 170,
   "metadata": {
    "ExecuteTime": {
     "end_time": "2020-08-04T19:25:53.079704Z",
     "start_time": "2020-08-04T19:25:53.072436Z"
    }
   },
   "outputs": [
    {
     "name": "stdout",
     "output_type": "stream",
     "text": [
      "conditional probability of not deciding any major among the male students in CMSU 0.10 %\n"
     ]
    }
   ],
   "source": [
    "Male_students_inGiven_dataset = 29/62\n",
    "Male_students_who_has_not_decided_their_Major = 3/62\n",
    "Probability_of_not_deciding = Male_students_who_has_not_decided_their_Major/Male_students_inGiven_dataset\n",
    "print('conditional probability of not deciding any major among the male students in CMSU %1.2f' %Probability_of_not_deciding,'%')"
   ]
  },
  {
   "cell_type": "code",
   "execution_count": 102,
   "metadata": {
    "ExecuteTime": {
     "end_time": "2020-08-04T13:12:49.268608Z",
     "start_time": "2020-08-04T13:12:49.205500Z"
    }
   },
   "outputs": [
    {
     "data": {
      "text/html": [
       "<div>\n",
       "<style scoped>\n",
       "    .dataframe tbody tr th:only-of-type {\n",
       "        vertical-align: middle;\n",
       "    }\n",
       "\n",
       "    .dataframe tbody tr th {\n",
       "        vertical-align: top;\n",
       "    }\n",
       "\n",
       "    .dataframe thead th {\n",
       "        text-align: right;\n",
       "    }\n",
       "</style>\n",
       "<table border=\"1\" class=\"dataframe\">\n",
       "  <thead>\n",
       "    <tr style=\"text-align: right;\">\n",
       "      <th></th>\n",
       "      <th>Major</th>\n",
       "      <th>Gender</th>\n",
       "    </tr>\n",
       "    <tr>\n",
       "      <th>Major</th>\n",
       "      <th></th>\n",
       "      <th></th>\n",
       "    </tr>\n",
       "  </thead>\n",
       "  <tbody>\n",
       "    <tr>\n",
       "      <th>Accounting</th>\n",
       "      <td>3</td>\n",
       "      <td>3</td>\n",
       "    </tr>\n",
       "    <tr>\n",
       "      <th>CIS</th>\n",
       "      <td>3</td>\n",
       "      <td>3</td>\n",
       "    </tr>\n",
       "    <tr>\n",
       "      <th>Economics/Finance</th>\n",
       "      <td>7</td>\n",
       "      <td>7</td>\n",
       "    </tr>\n",
       "    <tr>\n",
       "      <th>International Business</th>\n",
       "      <td>4</td>\n",
       "      <td>4</td>\n",
       "    </tr>\n",
       "    <tr>\n",
       "      <th>Management</th>\n",
       "      <td>4</td>\n",
       "      <td>4</td>\n",
       "    </tr>\n",
       "    <tr>\n",
       "      <th>Other</th>\n",
       "      <td>3</td>\n",
       "      <td>3</td>\n",
       "    </tr>\n",
       "    <tr>\n",
       "      <th>Retailing/Marketing</th>\n",
       "      <td>9</td>\n",
       "      <td>9</td>\n",
       "    </tr>\n",
       "  </tbody>\n",
       "</table>\n",
       "</div>"
      ],
      "text/plain": [
       "                        Major  Gender\n",
       "Major                                \n",
       "Accounting                  3       3\n",
       "CIS                         3       3\n",
       "Economics/Finance           7       7\n",
       "International Business      4       4\n",
       "Management                  4       4\n",
       "Other                       3       3\n",
       "Retailing/Marketing         9       9"
      ]
     },
     "execution_count": 102,
     "metadata": {},
     "output_type": "execute_result"
    }
   ],
   "source": [
    "df[df['Gender']=='Female'][['Major','Gender']].groupby(df['Major']).count()"
   ]
  },
  {
   "cell_type": "code",
   "execution_count": 171,
   "metadata": {
    "ExecuteTime": {
     "end_time": "2020-08-04T19:32:36.812517Z",
     "start_time": "2020-08-04T19:32:36.791435Z"
    }
   },
   "outputs": [
    {
     "name": "stdout",
     "output_type": "stream",
     "text": [
      "conditional probability of different majors(Accounting) among the Female students in CMSU 0.09 %\n"
     ]
    }
   ],
   "source": [
    "Female_students_inGiven_dataset = 33/62\n",
    "Female_students_who_has_chosen_Accounting_as_Major = 3/62\n",
    "Probability_of_choosing_Accounting = Female_students_who_has_chosen_Accounting_as_Major/Female_students_inGiven_dataset\n",
    "print('conditional probability of different majors(Accounting) among the Female students in CMSU %1.2f' %Probability_of_choosing_Accounting,'%')"
   ]
  },
  {
   "cell_type": "code",
   "execution_count": 172,
   "metadata": {
    "ExecuteTime": {
     "end_time": "2020-08-04T19:32:45.900438Z",
     "start_time": "2020-08-04T19:32:45.886913Z"
    }
   },
   "outputs": [
    {
     "name": "stdout",
     "output_type": "stream",
     "text": [
      "conditional probability of diffb hb gherent majors(CIS) among the Female students in CMSU 0.09 %\n"
     ]
    }
   ],
   "source": [
    "Female_students_inGiven_dataset = 33/62\n",
    "Female_students_who_has_chosen_CIS_as_Major = 3/62\n",
    "Probability_of_choosing_CIS = Female_students_who_has_chosen_CIS_as_Major/Female_students_inGiven_dataset\n",
    "print('conditional probability of diffb hb gherent majors(CIS) among the Female students in CMSU %1.2f' %Probability_of_choosing_CIS,'%')"
   ]
  },
  {
   "cell_type": "code",
   "execution_count": 173,
   "metadata": {
    "ExecuteTime": {
     "end_time": "2020-08-04T19:33:02.484613Z",
     "start_time": "2020-08-04T19:33:02.470811Z"
    }
   },
   "outputs": [
    {
     "name": "stdout",
     "output_type": "stream",
     "text": [
      "conditional probability of different majors(EconomicsOrFinance) among the Female students in CMSU 0.21 %\n"
     ]
    }
   ],
   "source": [
    "Female_students_inGiven_dataset = 33/62\n",
    "Female_students_who_has_chosen_EconomicsOrFinance_as_Major = 7/62\n",
    "Probability_of_choosing_EconomicsOrFinance = Female_students_who_has_chosen_EconomicsOrFinance_as_Major/Female_students_inGiven_dataset\n",
    "print('conditional probability of different majors(EconomicsOrFinance) among the Female students in CMSU %1.2f' %Probability_of_choosing_EconomicsOrFinance,'%')"
   ]
  },
  {
   "cell_type": "code",
   "execution_count": 174,
   "metadata": {
    "ExecuteTime": {
     "end_time": "2020-08-04T19:33:12.167720Z",
     "start_time": "2020-08-04T19:33:12.160837Z"
    }
   },
   "outputs": [
    {
     "name": "stdout",
     "output_type": "stream",
     "text": [
      "conditional probability of different majors(International Business) among the male students in CMSU 0.12 %\n"
     ]
    }
   ],
   "source": [
    "Female_students_inGiven_dataset = 33/62\n",
    "Female_students_who_has_chosen_International_Business_as_Major = 4/62\n",
    "Probability_of_choosing_International_Business = Female_students_who_has_chosen_International_Business_as_Major/Female_students_inGiven_dataset\n",
    "print('conditional probability of different majors(International Business) among the male students in CMSU %1.2f' %Probability_of_choosing_International_Business,'%')"
   ]
  },
  {
   "cell_type": "code",
   "execution_count": 175,
   "metadata": {
    "ExecuteTime": {
     "end_time": "2020-08-04T19:33:20.492713Z",
     "start_time": "2020-08-04T19:33:20.476219Z"
    }
   },
   "outputs": [
    {
     "name": "stdout",
     "output_type": "stream",
     "text": [
      "conditional probability of different majors(Management) among the male students in CMSU 0.14 %\n"
     ]
    }
   ],
   "source": [
    "Female_students_inGiven_dataset = 33/62\n",
    "Male_students_who_has_chosen_Management_as_Major = 4/62\n",
    "Probability_of_choosing_Management = Male_students_who_has_chosen_Management_as_Major/Male_students_inGiven_dataset\n",
    "print('conditional probability of different majors(Management) among the male students in CMSU %1.2f' %Probability_of_choosing_Management,'%')"
   ]
  },
  {
   "cell_type": "code",
   "execution_count": 177,
   "metadata": {
    "ExecuteTime": {
     "end_time": "2020-08-04T19:33:33.864191Z",
     "start_time": "2020-08-04T19:33:33.852090Z"
    }
   },
   "outputs": [
    {
     "name": "stdout",
     "output_type": "stream",
     "text": [
      "conditional probability of different majors(Other) among the Female students in CMSU 0.09 %\n"
     ]
    }
   ],
   "source": [
    "Female_students_inGiven_dataset = 33/62\n",
    "Female_students_who_has_chosen_Other_as_Major = 3/62\n",
    "Probability_of_choosing_Other = Female_students_who_has_chosen_Other_as_Major/Female_students_inGiven_dataset\n",
    "print('conditional probability of different majors(Other) among the Female students in CMSU %1.2f' %Probability_of_choosing_Other,'%')"
   ]
  },
  {
   "cell_type": "code",
   "execution_count": 178,
   "metadata": {
    "ExecuteTime": {
     "end_time": "2020-08-04T19:33:43.931819Z",
     "start_time": "2020-08-04T19:33:43.918308Z"
    }
   },
   "outputs": [
    {
     "name": "stdout",
     "output_type": "stream",
     "text": [
      "conditional probability of different majors(Retailing/Marketing) among the Female students in CMSU 0.27 %\n"
     ]
    }
   ],
   "source": [
    "Female_students_inGiven_dataset = 33/62\n",
    "Female_students_who_has_chosen_RetailingOrMarketing_as_Major = 9/62\n",
    "Probability_of_choosing_RetailingOrMarketing = Female_students_who_has_chosen_RetailingOrMarketing_as_Major/Female_students_inGiven_dataset\n",
    "print('conditional probability of different majors(Retailing/Marketing) among the Female students in CMSU %1.2f' %Probability_of_choosing_RetailingOrMarketing,'%')"
   ]
  },
  {
   "cell_type": "markdown",
   "metadata": {},
   "source": [
    "2.2.3. Find the conditional probability of intent to graduate, given that the student is a male.\n",
    "Find the conditional probability of intent to graduate, given that the student is a female.\n"
   ]
  },
  {
   "cell_type": "code",
   "execution_count": 68,
   "metadata": {
    "ExecuteTime": {
     "end_time": "2020-08-03T14:47:17.033241Z",
     "start_time": "2020-08-03T14:47:16.935243Z"
    }
   },
   "outputs": [
    {
     "data": {
      "text/plain": [
       "Yes          28\n",
       "Undecided    22\n",
       "No           12\n",
       "Name: Grad Intention, dtype: int64"
      ]
     },
     "execution_count": 68,
     "metadata": {},
     "output_type": "execute_result"
    }
   ],
   "source": [
    "df['Grad Intention'].value_counts()"
   ]
  },
  {
   "cell_type": "code",
   "execution_count": 85,
   "metadata": {
    "ExecuteTime": {
     "end_time": "2020-08-03T14:54:46.060465Z",
     "start_time": "2020-08-03T14:54:46.039488Z"
    },
    "scrolled": false
   },
   "outputs": [
    {
     "data": {
      "text/html": [
       "<div>\n",
       "<style scoped>\n",
       "    .dataframe tbody tr th:only-of-type {\n",
       "        vertical-align: middle;\n",
       "    }\n",
       "\n",
       "    .dataframe tbody tr th {\n",
       "        vertical-align: top;\n",
       "    }\n",
       "\n",
       "    .dataframe thead th {\n",
       "        text-align: right;\n",
       "    }\n",
       "</style>\n",
       "<table border=\"1\" class=\"dataframe\">\n",
       "  <thead>\n",
       "    <tr style=\"text-align: right;\">\n",
       "      <th></th>\n",
       "      <th>ID</th>\n",
       "      <th>Gender</th>\n",
       "      <th>Age</th>\n",
       "      <th>Class</th>\n",
       "      <th>Major</th>\n",
       "      <th>Grad Intention</th>\n",
       "      <th>GPA</th>\n",
       "      <th>Employment</th>\n",
       "      <th>Salary</th>\n",
       "      <th>Social Networking</th>\n",
       "      <th>Satisfaction</th>\n",
       "      <th>Spending</th>\n",
       "      <th>Computer</th>\n",
       "      <th>Text Messages</th>\n",
       "    </tr>\n",
       "    <tr>\n",
       "      <th>Gender</th>\n",
       "      <th></th>\n",
       "      <th></th>\n",
       "      <th></th>\n",
       "      <th></th>\n",
       "      <th></th>\n",
       "      <th></th>\n",
       "      <th></th>\n",
       "      <th></th>\n",
       "      <th></th>\n",
       "      <th></th>\n",
       "      <th></th>\n",
       "      <th></th>\n",
       "      <th></th>\n",
       "      <th></th>\n",
       "    </tr>\n",
       "  </thead>\n",
       "  <tbody>\n",
       "    <tr>\n",
       "      <th>Female</th>\n",
       "      <td>11</td>\n",
       "      <td>11</td>\n",
       "      <td>11</td>\n",
       "      <td>11</td>\n",
       "      <td>11</td>\n",
       "      <td>11</td>\n",
       "      <td>11</td>\n",
       "      <td>11</td>\n",
       "      <td>11</td>\n",
       "      <td>11</td>\n",
       "      <td>11</td>\n",
       "      <td>11</td>\n",
       "      <td>11</td>\n",
       "      <td>11</td>\n",
       "    </tr>\n",
       "    <tr>\n",
       "      <th>Male</th>\n",
       "      <td>17</td>\n",
       "      <td>17</td>\n",
       "      <td>17</td>\n",
       "      <td>17</td>\n",
       "      <td>17</td>\n",
       "      <td>17</td>\n",
       "      <td>17</td>\n",
       "      <td>17</td>\n",
       "      <td>17</td>\n",
       "      <td>17</td>\n",
       "      <td>17</td>\n",
       "      <td>17</td>\n",
       "      <td>17</td>\n",
       "      <td>17</td>\n",
       "    </tr>\n",
       "  </tbody>\n",
       "</table>\n",
       "</div>"
      ],
      "text/plain": [
       "        ID  Gender  Age  Class  Major  Grad Intention  GPA  Employment  \\\n",
       "Gender                                                                   \n",
       "Female  11      11   11     11     11              11   11          11   \n",
       "Male    17      17   17     17     17              17   17          17   \n",
       "\n",
       "        Salary  Social Networking  Satisfaction  Spending  Computer  \\\n",
       "Gender                                                                \n",
       "Female      11                 11            11        11        11   \n",
       "Male        17                 17            17        17        17   \n",
       "\n",
       "        Text Messages  \n",
       "Gender                 \n",
       "Female             11  \n",
       "Male               17  "
      ]
     },
     "execution_count": 85,
     "metadata": {},
     "output_type": "execute_result"
    }
   ],
   "source": [
    "df[df['Grad Intention']=='Yes'].groupby(df['Gender']).count()"
   ]
  },
  {
   "cell_type": "code",
   "execution_count": 3,
   "metadata": {
    "ExecuteTime": {
     "end_time": "2020-08-08T15:57:15.857412Z",
     "start_time": "2020-08-08T15:57:15.850432Z"
    }
   },
   "outputs": [
    {
     "name": "stdout",
     "output_type": "stream",
     "text": [
      "Conditional probability of intent to graduate, given that the student is a male: 58.620689655172406 %\n"
     ]
    }
   ],
   "source": [
    "Given_that_student_is_Male = 29/62\n",
    "Intent_to_Graduate_when_Yes_and_Male = 17/62\n",
    "Probability_of_Graduating_when_Male = Intent_to_Graduate_when_Yes_and_Male/Given_that_student_is_Male\n",
    "print('Conditional probability of intent to graduate, given that the student is a male:', Probability_of_Graduating_when_Male*100,'%')"
   ]
  },
  {
   "cell_type": "code",
   "execution_count": 5,
   "metadata": {
    "ExecuteTime": {
     "end_time": "2020-08-08T15:58:27.341644Z",
     "start_time": "2020-08-08T15:58:27.335658Z"
    }
   },
   "outputs": [
    {
     "name": "stdout",
     "output_type": "stream",
     "text": [
      "Conditional probability of intent to graduate, given that the student is a Female: 33.333333333333336 %\n"
     ]
    }
   ],
   "source": [
    "Given_that_student_is_Female = 33/62\n",
    "Intent_to_Graduate_when_Yes_and_Female = 11/62\n",
    "Probability_of_Graduating_when_Female = Intent_to_Graduate_when_Yes_and_Female/Given_that_student_is_Female\n",
    "print('Conditional probability of intent to graduate, given that the student is a Female:', Probability_of_Graduating_when_Female*100,'%')"
   ]
  },
  {
   "cell_type": "code",
   "execution_count": 90,
   "metadata": {
    "ExecuteTime": {
     "end_time": "2020-08-03T14:56:53.871114Z",
     "start_time": "2020-08-03T14:56:53.845148Z"
    },
    "scrolled": true
   },
   "outputs": [
    {
     "data": {
      "text/html": [
       "<div>\n",
       "<style scoped>\n",
       "    .dataframe tbody tr th:only-of-type {\n",
       "        vertical-align: middle;\n",
       "    }\n",
       "\n",
       "    .dataframe tbody tr th {\n",
       "        vertical-align: top;\n",
       "    }\n",
       "\n",
       "    .dataframe thead th {\n",
       "        text-align: right;\n",
       "    }\n",
       "</style>\n",
       "<table border=\"1\" class=\"dataframe\">\n",
       "  <thead>\n",
       "    <tr style=\"text-align: right;\">\n",
       "      <th></th>\n",
       "      <th>ID</th>\n",
       "      <th>Gender</th>\n",
       "      <th>Age</th>\n",
       "      <th>Class</th>\n",
       "      <th>Major</th>\n",
       "      <th>Grad Intention</th>\n",
       "      <th>GPA</th>\n",
       "      <th>Employment</th>\n",
       "      <th>Salary</th>\n",
       "      <th>Social Networking</th>\n",
       "      <th>Satisfaction</th>\n",
       "      <th>Spending</th>\n",
       "      <th>Computer</th>\n",
       "      <th>Text Messages</th>\n",
       "    </tr>\n",
       "    <tr>\n",
       "      <th>Gender</th>\n",
       "      <th></th>\n",
       "      <th></th>\n",
       "      <th></th>\n",
       "      <th></th>\n",
       "      <th></th>\n",
       "      <th></th>\n",
       "      <th></th>\n",
       "      <th></th>\n",
       "      <th></th>\n",
       "      <th></th>\n",
       "      <th></th>\n",
       "      <th></th>\n",
       "      <th></th>\n",
       "      <th></th>\n",
       "    </tr>\n",
       "  </thead>\n",
       "  <tbody>\n",
       "    <tr>\n",
       "      <th>Female</th>\n",
       "      <td>13</td>\n",
       "      <td>13</td>\n",
       "      <td>13</td>\n",
       "      <td>13</td>\n",
       "      <td>13</td>\n",
       "      <td>13</td>\n",
       "      <td>13</td>\n",
       "      <td>13</td>\n",
       "      <td>13</td>\n",
       "      <td>13</td>\n",
       "      <td>13</td>\n",
       "      <td>13</td>\n",
       "      <td>13</td>\n",
       "      <td>13</td>\n",
       "    </tr>\n",
       "    <tr>\n",
       "      <th>Male</th>\n",
       "      <td>9</td>\n",
       "      <td>9</td>\n",
       "      <td>9</td>\n",
       "      <td>9</td>\n",
       "      <td>9</td>\n",
       "      <td>9</td>\n",
       "      <td>9</td>\n",
       "      <td>9</td>\n",
       "      <td>9</td>\n",
       "      <td>9</td>\n",
       "      <td>9</td>\n",
       "      <td>9</td>\n",
       "      <td>9</td>\n",
       "      <td>9</td>\n",
       "    </tr>\n",
       "  </tbody>\n",
       "</table>\n",
       "</div>"
      ],
      "text/plain": [
       "        ID  Gender  Age  Class  Major  Grad Intention  GPA  Employment  \\\n",
       "Gender                                                                   \n",
       "Female  13      13   13     13     13              13   13          13   \n",
       "Male     9       9    9      9      9               9    9           9   \n",
       "\n",
       "        Salary  Social Networking  Satisfaction  Spending  Computer  \\\n",
       "Gender                                                                \n",
       "Female      13                 13            13        13        13   \n",
       "Male         9                  9             9         9         9   \n",
       "\n",
       "        Text Messages  \n",
       "Gender                 \n",
       "Female             13  \n",
       "Male                9  "
      ]
     },
     "execution_count": 90,
     "metadata": {},
     "output_type": "execute_result"
    }
   ],
   "source": [
    "df[df['Grad Intention']=='Undecided'].groupby(df['Gender']).count()"
   ]
  },
  {
   "cell_type": "code",
   "execution_count": 6,
   "metadata": {
    "ExecuteTime": {
     "end_time": "2020-08-08T16:03:04.418385Z",
     "start_time": "2020-08-08T16:03:04.411398Z"
    }
   },
   "outputs": [
    {
     "name": "stdout",
     "output_type": "stream",
     "text": [
      "Conditional probability of intent to graduate, given that the student is a male: 31.034482758620697 %\n"
     ]
    }
   ],
   "source": [
    "student_is_Male = 29/62\n",
    "Intent_to_Graduate_when_Undecided_and_Male = 9/62\n",
    "Probability_of_not_deciding_when_Male = Intent_to_Graduate_when_Undecided_and_Male/student_is_Male\n",
    "print('Conditional probability of intent to graduate, given that the student is a male:', Probability_of_not_deciding_when_Male*100,'%')"
   ]
  },
  {
   "cell_type": "code",
   "execution_count": 7,
   "metadata": {
    "ExecuteTime": {
     "end_time": "2020-08-08T16:07:49.148361Z",
     "start_time": "2020-08-08T16:07:49.141418Z"
    }
   },
   "outputs": [
    {
     "name": "stdout",
     "output_type": "stream",
     "text": [
      "Conditional probability of intent to graduate, given that the student is a Female: 39.3939393939394 %\n"
     ]
    }
   ],
   "source": [
    "student_is_Female = 33/62\n",
    "Intent_to_Graduate_when_Undecided_and_Female = 13/62\n",
    "Probability_of_not_deciding_when_Female = Intent_to_Graduate_when_Undecided_and_Female/student_is_Female\n",
    "print('Conditional probability of intent to graduate, given that the student is a Female:', Probability_of_not_deciding_when_Female*100,'%')"
   ]
  },
  {
   "cell_type": "code",
   "execution_count": 91,
   "metadata": {
    "ExecuteTime": {
     "end_time": "2020-08-03T14:57:20.315668Z",
     "start_time": "2020-08-03T14:57:20.281760Z"
    }
   },
   "outputs": [
    {
     "data": {
      "text/html": [
       "<div>\n",
       "<style scoped>\n",
       "    .dataframe tbody tr th:only-of-type {\n",
       "        vertical-align: middle;\n",
       "    }\n",
       "\n",
       "    .dataframe tbody tr th {\n",
       "        vertical-align: top;\n",
       "    }\n",
       "\n",
       "    .dataframe thead th {\n",
       "        text-align: right;\n",
       "    }\n",
       "</style>\n",
       "<table border=\"1\" class=\"dataframe\">\n",
       "  <thead>\n",
       "    <tr style=\"text-align: right;\">\n",
       "      <th></th>\n",
       "      <th>ID</th>\n",
       "      <th>Gender</th>\n",
       "      <th>Age</th>\n",
       "      <th>Class</th>\n",
       "      <th>Major</th>\n",
       "      <th>Grad Intention</th>\n",
       "      <th>GPA</th>\n",
       "      <th>Employment</th>\n",
       "      <th>Salary</th>\n",
       "      <th>Social Networking</th>\n",
       "      <th>Satisfaction</th>\n",
       "      <th>Spending</th>\n",
       "      <th>Computer</th>\n",
       "      <th>Text Messages</th>\n",
       "    </tr>\n",
       "    <tr>\n",
       "      <th>Gender</th>\n",
       "      <th></th>\n",
       "      <th></th>\n",
       "      <th></th>\n",
       "      <th></th>\n",
       "      <th></th>\n",
       "      <th></th>\n",
       "      <th></th>\n",
       "      <th></th>\n",
       "      <th></th>\n",
       "      <th></th>\n",
       "      <th></th>\n",
       "      <th></th>\n",
       "      <th></th>\n",
       "      <th></th>\n",
       "    </tr>\n",
       "  </thead>\n",
       "  <tbody>\n",
       "    <tr>\n",
       "      <th>Female</th>\n",
       "      <td>9</td>\n",
       "      <td>9</td>\n",
       "      <td>9</td>\n",
       "      <td>9</td>\n",
       "      <td>9</td>\n",
       "      <td>9</td>\n",
       "      <td>9</td>\n",
       "      <td>9</td>\n",
       "      <td>9</td>\n",
       "      <td>9</td>\n",
       "      <td>9</td>\n",
       "      <td>9</td>\n",
       "      <td>9</td>\n",
       "      <td>9</td>\n",
       "    </tr>\n",
       "    <tr>\n",
       "      <th>Male</th>\n",
       "      <td>3</td>\n",
       "      <td>3</td>\n",
       "      <td>3</td>\n",
       "      <td>3</td>\n",
       "      <td>3</td>\n",
       "      <td>3</td>\n",
       "      <td>3</td>\n",
       "      <td>3</td>\n",
       "      <td>3</td>\n",
       "      <td>3</td>\n",
       "      <td>3</td>\n",
       "      <td>3</td>\n",
       "      <td>3</td>\n",
       "      <td>3</td>\n",
       "    </tr>\n",
       "  </tbody>\n",
       "</table>\n",
       "</div>"
      ],
      "text/plain": [
       "        ID  Gender  Age  Class  Major  Grad Intention  GPA  Employment  \\\n",
       "Gender                                                                   \n",
       "Female   9       9    9      9      9               9    9           9   \n",
       "Male     3       3    3      3      3               3    3           3   \n",
       "\n",
       "        Salary  Social Networking  Satisfaction  Spending  Computer  \\\n",
       "Gender                                                                \n",
       "Female       9                  9             9         9         9   \n",
       "Male         3                  3             3         3         3   \n",
       "\n",
       "        Text Messages  \n",
       "Gender                 \n",
       "Female              9  \n",
       "Male                3  "
      ]
     },
     "execution_count": 91,
     "metadata": {},
     "output_type": "execute_result"
    }
   ],
   "source": [
    "df[df['Grad Intention']=='No'].groupby(df['Gender']).count()"
   ]
  },
  {
   "cell_type": "code",
   "execution_count": 8,
   "metadata": {
    "ExecuteTime": {
     "end_time": "2020-08-08T16:10:16.035064Z",
     "start_time": "2020-08-08T16:10:15.976864Z"
    }
   },
   "outputs": [
    {
     "name": "stdout",
     "output_type": "stream",
     "text": [
      "Conditional probability of intent to graduate, given that the student is a male: 10.344827586206897 %\n"
     ]
    }
   ],
   "source": [
    "student_is_Male = 29/62\n",
    "Intent_to_Graduate_when_NO_and_Male = 3/62\n",
    "Probability_of_not_Graduating_when_Male = Intent_to_Graduate_when_NO_and_Male/student_is_Male\n",
    "print('Conditional probability of intent to graduate, given that the student is a male:', Probability_of_not_Graduating_when_Male*100,'%')"
   ]
  },
  {
   "cell_type": "code",
   "execution_count": 9,
   "metadata": {
    "ExecuteTime": {
     "end_time": "2020-08-08T16:10:24.033504Z",
     "start_time": "2020-08-08T16:10:24.028519Z"
    }
   },
   "outputs": [
    {
     "name": "stdout",
     "output_type": "stream",
     "text": [
      "Conditional probability of intent to graduate, given that the student is a Female: 27.272727272727277 %\n"
     ]
    }
   ],
   "source": [
    "student_is_Female = 33/62\n",
    "Intent_to_Graduate_when_NO_and_Female = 9/62\n",
    "Probability_of_not_Graduating_when_Female = Intent_to_Graduate_when_NO_and_Female/student_is_Female\n",
    "print('Conditional probability of intent to graduate, given that the student is a Female:', Probability_of_not_Graduating_when_Female*100,'%')"
   ]
  },
  {
   "cell_type": "markdown",
   "metadata": {},
   "source": [
    "2.2.4. Find the conditional probability of employment status for the male students as well as for the female students."
   ]
  },
  {
   "cell_type": "code",
   "execution_count": 138,
   "metadata": {
    "ExecuteTime": {
     "end_time": "2020-08-04T14:08:42.541768Z",
     "start_time": "2020-08-04T14:08:42.532795Z"
    }
   },
   "outputs": [
    {
     "data": {
      "text/plain": [
       "Employment\n",
       "Full-Time      7\n",
       "Part-Time     19\n",
       "Unemployed     3\n",
       "Name: Gender, dtype: int64"
      ]
     },
     "execution_count": 138,
     "metadata": {},
     "output_type": "execute_result"
    }
   ],
   "source": [
    "df[df['Gender']=='Male'].groupby(df['Employment']).count()['Gender']"
   ]
  },
  {
   "cell_type": "code",
   "execution_count": 139,
   "metadata": {
    "ExecuteTime": {
     "end_time": "2020-08-04T14:34:28.311931Z",
     "start_time": "2020-08-04T14:34:28.302963Z"
    }
   },
   "outputs": [
    {
     "data": {
      "text/plain": [
       "Part-Time     43\n",
       "Full-Time     10\n",
       "Unemployed     9\n",
       "Name: Employment, dtype: int64"
      ]
     },
     "execution_count": 139,
     "metadata": {},
     "output_type": "execute_result"
    }
   ],
   "source": [
    "df['Employment'].value_counts()"
   ]
  },
  {
   "cell_type": "code",
   "execution_count": 145,
   "metadata": {
    "ExecuteTime": {
     "end_time": "2020-08-04T18:00:19.103986Z",
     "start_time": "2020-08-04T18:00:19.092724Z"
    }
   },
   "outputs": [
    {
     "name": "stdout",
     "output_type": "stream",
     "text": [
      "Conditional probability of employment status for the male students: 24.137931034482758 %\n"
     ]
    }
   ],
   "source": [
    "Probability_empStatus_is_FullTime_and_Male = 7/62\n",
    "Probability_that_Gender_is_Male = 29/62\n",
    "Conditional_Probability = Probability_empStatus_is_FullTime_and_Male/Probability_that_Gender_is_Male\n",
    "print('Conditional probability of employment status for the male students:', Conditional_Probability*100,'%')"
   ]
  },
  {
   "cell_type": "code",
   "execution_count": 146,
   "metadata": {
    "ExecuteTime": {
     "end_time": "2020-08-04T18:00:23.946124Z",
     "start_time": "2020-08-04T18:00:23.934540Z"
    }
   },
   "outputs": [
    {
     "name": "stdout",
     "output_type": "stream",
     "text": [
      "Conditional probability of employment status for the male students: 65.51724137931035 %\n"
     ]
    }
   ],
   "source": [
    "Probability_empStatus_is_PartTime_and_Male = 19/62\n",
    "Probability_that_Gender_is_Male = 29/62\n",
    "Conditional_Probability = Probability_empStatus_is_PartTime_and_Male/Probability_that_Gender_is_Male\n",
    "print('Conditional probability of employment status for the male students:', Conditional_Probability*100,'%')"
   ]
  },
  {
   "cell_type": "code",
   "execution_count": 147,
   "metadata": {
    "ExecuteTime": {
     "end_time": "2020-08-04T18:00:30.119673Z",
     "start_time": "2020-08-04T18:00:30.107042Z"
    }
   },
   "outputs": [
    {
     "name": "stdout",
     "output_type": "stream",
     "text": [
      "Conditional probability of employment status for the male students: 10.344827586206897 %\n"
     ]
    }
   ],
   "source": [
    "Probability_empStatus_is_Unemployed_and_Male = 3/62\n",
    "Probability_that_Gender_is_Male = 29/62\n",
    "Conditional_Probability = Probability_empStatus_is_Unemployed_and_Male/Probability_that_Gender_is_Male\n",
    "print('Conditional probability of employment status for the male students:', Conditional_Probability*100,'%')"
   ]
  },
  {
   "cell_type": "code",
   "execution_count": 149,
   "metadata": {
    "ExecuteTime": {
     "end_time": "2020-08-04T18:03:05.841283Z",
     "start_time": "2020-08-04T18:03:05.768538Z"
    }
   },
   "outputs": [
    {
     "data": {
      "text/plain": [
       "Employment\n",
       "Full-Time      3\n",
       "Part-Time     24\n",
       "Unemployed     6\n",
       "Name: Gender, dtype: int64"
      ]
     },
     "execution_count": 149,
     "metadata": {},
     "output_type": "execute_result"
    }
   ],
   "source": [
    "df[df['Gender']=='Female'].groupby(df['Employment']).count()['Gender']"
   ]
  },
  {
   "cell_type": "code",
   "execution_count": 153,
   "metadata": {
    "ExecuteTime": {
     "end_time": "2020-08-04T18:06:44.244596Z",
     "start_time": "2020-08-04T18:06:44.145357Z"
    }
   },
   "outputs": [
    {
     "name": "stdout",
     "output_type": "stream",
     "text": [
      "Conditional probability of employment status for the male students: 9.090909090909092 %\n"
     ]
    }
   ],
   "source": [
    "Probability_empStatus_is_FullTime_and_Female = 3/62\n",
    "Probability_that_Gender_is_Female = 33/62\n",
    "Conditional_Probability = Probability_empStatus_is_FullTime_and_Female/Probability_that_Gender_is_Female\n",
    "print('Conditional probability of employment status for the female students:', Conditional_Probability*100,'%')"
   ]
  },
  {
   "cell_type": "code",
   "execution_count": 154,
   "metadata": {
    "ExecuteTime": {
     "end_time": "2020-08-04T18:08:13.523278Z",
     "start_time": "2020-08-04T18:08:13.465585Z"
    }
   },
   "outputs": [
    {
     "name": "stdout",
     "output_type": "stream",
     "text": [
      "Conditional probability of employment status for the female students: 82.75862068965517 %\n"
     ]
    }
   ],
   "source": [
    "Probability_empStatus_is_PartTime_and_Female = 24/62\n",
    "Probability_that_Gender_is_Female = 29/62\n",
    "Conditional_Probability = Probability_empStatus_is_PartTime_and_Female/Probability_that_Gender_is_Female\n",
    "print('Conditional probability of employment status for the female students:', Conditional_Probability*100,'%')"
   ]
  },
  {
   "cell_type": "code",
   "execution_count": 155,
   "metadata": {
    "ExecuteTime": {
     "end_time": "2020-08-04T18:08:40.275668Z",
     "start_time": "2020-08-04T18:08:40.265817Z"
    }
   },
   "outputs": [
    {
     "name": "stdout",
     "output_type": "stream",
     "text": [
      "Conditional probability of employment status for the female students: 20.689655172413794 %\n"
     ]
    }
   ],
   "source": [
    "Probability_empStatus_is_Unemployed_and_Female = 6/62\n",
    "Probability_that_Gender_is_Female = 29/62\n",
    "Conditional_Probability = Probability_empStatus_is_Unemployed_and_Female/Probability_that_Gender_is_Female\n",
    "print('Conditional probability of employment status for the female students:', Conditional_Probability*100,'%')"
   ]
  },
  {
   "cell_type": "markdown",
   "metadata": {},
   "source": [
    "2.2.5. Find the conditional probability of laptop preference among the male students as well as among the female students."
   ]
  },
  {
   "cell_type": "code",
   "execution_count": 156,
   "metadata": {
    "ExecuteTime": {
     "end_time": "2020-08-04T18:10:37.205595Z",
     "start_time": "2020-08-04T18:10:37.137864Z"
    }
   },
   "outputs": [
    {
     "data": {
      "text/plain": [
       "Laptop     55\n",
       "Desktop     5\n",
       "Tablet      2\n",
       "Name: Computer, dtype: int64"
      ]
     },
     "execution_count": 156,
     "metadata": {},
     "output_type": "execute_result"
    }
   ],
   "source": [
    "df['Computer'].value_counts()"
   ]
  },
  {
   "cell_type": "code",
   "execution_count": 158,
   "metadata": {
    "ExecuteTime": {
     "end_time": "2020-08-04T18:11:17.551468Z",
     "start_time": "2020-08-04T18:11:17.525640Z"
    },
    "scrolled": true
   },
   "outputs": [
    {
     "data": {
      "text/plain": [
       "Computer\n",
       "Desktop     3\n",
       "Laptop     26\n",
       "Name: Gender, dtype: int64"
      ]
     },
     "execution_count": 158,
     "metadata": {},
     "output_type": "execute_result"
    }
   ],
   "source": [
    "df[df['Gender']=='Male'].groupby(df['Computer']).count()['Gender']"
   ]
  },
  {
   "cell_type": "code",
   "execution_count": 1,
   "metadata": {
    "ExecuteTime": {
     "end_time": "2020-08-08T12:41:22.032387Z",
     "start_time": "2020-08-08T12:41:21.992493Z"
    }
   },
   "outputs": [
    {
     "name": "stdout",
     "output_type": "stream",
     "text": [
      "Conditional probability of laptop preference among the male students: 89.65517241379311 %\n"
     ]
    }
   ],
   "source": [
    "Probability_of_preferring_Laptop_Male = 26/62\n",
    "Probability_that_the_person_is_male = 29/62\n",
    "Conditional_Probability = Probability_of_preferring_Laptop_Male/Probability_that_the_person_is_male\n",
    "print('Conditional probability of laptop preference among the male students:', Conditional_Probability*100,'%')"
   ]
  },
  {
   "cell_type": "code",
   "execution_count": 159,
   "metadata": {
    "ExecuteTime": {
     "end_time": "2020-08-04T18:11:49.909212Z",
     "start_time": "2020-08-04T18:11:49.889188Z"
    }
   },
   "outputs": [
    {
     "data": {
      "text/plain": [
       "Computer\n",
       "Desktop     2\n",
       "Laptop     29\n",
       "Tablet      2\n",
       "Name: Gender, dtype: int64"
      ]
     },
     "execution_count": 159,
     "metadata": {},
     "output_type": "execute_result"
    }
   ],
   "source": [
    "df[df['Gender']=='Female'].groupby(df['Computer']).count()['Gender']"
   ]
  },
  {
   "cell_type": "code",
   "execution_count": 161,
   "metadata": {
    "ExecuteTime": {
     "end_time": "2020-08-04T19:20:31.830168Z",
     "start_time": "2020-08-04T19:20:31.750452Z"
    }
   },
   "outputs": [
    {
     "name": "stdout",
     "output_type": "stream",
     "text": [
      "Conditional probability of laptop preference among the female students: 87.87878787878788 %\n"
     ]
    }
   ],
   "source": [
    "Probability_of_preferring_Laptop_Female = 29/62\n",
    "Probability_that_the_person_is_female = 33/62\n",
    "Conditional_Probability = Probability_of_preferring_Laptop_Female/Probability_that_the_person_is_female\n",
    "print('Conditional probability of laptop preference among the female students:', Conditional_Probability*100,'%')"
   ]
  },
  {
   "cell_type": "markdown",
   "metadata": {},
   "source": [
    "2.3. Based on the above probabilities, do you think that the column variable in each case is independent of Gender?\n",
    "Justify your comment in each case."
   ]
  },
  {
   "cell_type": "code",
   "execution_count": null,
   "metadata": {},
   "outputs": [],
   "source": []
  },
  {
   "cell_type": "markdown",
   "metadata": {},
   "source": [
    "2.4. Note that there are three numerical (continuous) variables in the data set, Salary, Spending and Text Messages. For each of them comment whether they follow a normal distribution.\n",
    "Write a note summarizing your conclusions."
   ]
  },
  {
   "cell_type": "code",
   "execution_count": 27,
   "metadata": {
    "ExecuteTime": {
     "end_time": "2020-08-09T04:39:09.908596Z",
     "start_time": "2020-08-09T04:39:04.570145Z"
    }
   },
   "outputs": [
    {
     "data": {
      "text/plain": [
       "Text(0.5, 1.0, 'QQ Plot of Salary')"
      ]
     },
     "execution_count": 27,
     "metadata": {},
     "output_type": "execute_result"
    },
    {
     "data": {
      "image/png": "[encoded data removed]",
      "text/plain": [
       "<Figure size 432x288 with 1 Axes>"
      ]
     },
     "metadata": {
      "needs_background": "light"
     },
     "output_type": "display_data"
    }
   ],
   "source": [
    "sm.qqplot(df['Salary'])\n",
    "plt.title('QQ Plot of Salary')"
   ]
  },
  {
   "cell_type": "code",
   "execution_count": 28,
   "metadata": {
    "ExecuteTime": {
     "end_time": "2020-08-09T04:42:00.462554Z",
     "start_time": "2020-08-09T04:41:54.410792Z"
    }
   },
   "outputs": [
    {
     "data": {
      "text/plain": [
       "Text(0.5, 1.0, 'QQ Plot of Spending')"
      ]
     },
     "execution_count": 28,
     "metadata": {},
     "output_type": "execute_result"
    },
    {
     "data": {
      "image/png": "[encoded data removed]",
      "text/plain": [
       "<Figure size 432x288 with 1 Axes>"
      ]
     },
     "metadata": {
      "needs_background": "light"
     },
     "output_type": "display_data"
    }
   ],
   "source": [
    "sm.qqplot(df['Spending'])\n",
    "plt.title('QQ Plot of Spending')"
   ]
  },
  {
   "cell_type": "code",
   "execution_count": 29,
   "metadata": {
    "ExecuteTime": {
     "end_time": "2020-08-09T04:44:29.467188Z",
     "start_time": "2020-08-09T04:44:29.284994Z"
    }
   },
   "outputs": [
    {
     "data": {
      "text/plain": [
       "Text(0.5, 1.0, 'QQ Plot of Text Messages')"
      ]
     },
     "execution_count": 29,
     "metadata": {},
     "output_type": "execute_result"
    },
    {
     "data": {
      "image/png": "[encoded data removed]",
      "text/plain": [
       "<Figure size 432x288 with 1 Axes>"
      ]
     },
     "metadata": {
      "needs_background": "light"
     },
     "output_type": "display_data"
    }
   ],
   "source": [
    "sm.qqplot(df['Text Messages'])\n",
    "plt.title('QQ Plot of Text Messages')"
   ]
  },
  {
   "cell_type": "code",
   "execution_count": 10,
   "metadata": {
    "ExecuteTime": {
     "end_time": "2020-08-08T22:57:17.649657Z",
     "start_time": "2020-08-08T22:57:03.898866Z"
    }
   },
   "outputs": [],
   "source": [
    "from scipy.stats import shapiro  "
   ]
  },
  {
   "cell_type": "code",
   "execution_count": 15,
   "metadata": {
    "ExecuteTime": {
     "end_time": "2020-08-08T22:58:42.237944Z",
     "start_time": "2020-08-08T22:58:42.212055Z"
    }
   },
   "outputs": [
    {
     "data": {
      "text/plain": [
       "0.028000956401228905"
      ]
     },
     "execution_count": 15,
     "metadata": {},
     "output_type": "execute_result"
    }
   ],
   "source": [
    "stat, p = shapiro(df['Salary'])\n",
    "p"
   ]
  },
  {
   "cell_type": "code",
   "execution_count": 17,
   "metadata": {
    "ExecuteTime": {
     "end_time": "2020-08-08T22:59:29.869744Z",
     "start_time": "2020-08-08T22:59:28.609098Z"
    }
   },
   "outputs": [
    {
     "data": {
      "text/plain": [
       "<AxesSubplot:xlabel='Salary'>"
      ]
     },
     "execution_count": 17,
     "metadata": {},
     "output_type": "execute_result"
    },
    {
     "data": {
      "image/png": "[encoded data removed]",
      "text/plain": [
       "<Figure size 432x288 with 1 Axes>"
      ]
     },
     "metadata": {
      "needs_background": "light"
     },
     "output_type": "display_data"
    }
   ],
   "source": [
    "sns.distplot(df['Salary'])"
   ]
  },
  {
   "cell_type": "code",
   "execution_count": 19,
   "metadata": {
    "ExecuteTime": {
     "end_time": "2020-08-08T23:00:28.292995Z",
     "start_time": "2020-08-08T23:00:28.282058Z"
    }
   },
   "outputs": [
    {
     "data": {
      "text/plain": [
       "0.14618172494628334"
      ]
     },
     "execution_count": 19,
     "metadata": {},
     "output_type": "execute_result"
    }
   ],
   "source": [
    "from scipy.stats import normaltest\n",
    "stat, p = normaltest(df['Salary'])\n",
    "p"
   ]
  },
  {
   "cell_type": "code",
   "execution_count": 20,
   "metadata": {
    "ExecuteTime": {
     "end_time": "2020-08-08T23:01:59.533222Z",
     "start_time": "2020-08-08T23:01:59.525243Z"
    }
   },
   "outputs": [
    {
     "data": {
      "text/plain": [
       "1.6854661225806922e-05"
      ]
     },
     "execution_count": 20,
     "metadata": {},
     "output_type": "execute_result"
    }
   ],
   "source": [
    "stat, p = shapiro(df['Spending'])\n",
    "p"
   ]
  },
  {
   "cell_type": "code",
   "execution_count": 21,
   "metadata": {
    "ExecuteTime": {
     "end_time": "2020-08-08T23:02:17.764036Z",
     "start_time": "2020-08-08T23:02:17.530661Z"
    }
   },
   "outputs": [
    {
     "data": {
      "text/plain": [
       "<AxesSubplot:xlabel='Spending'>"
      ]
     },
     "execution_count": 21,
     "metadata": {},
     "output_type": "execute_result"
    },
    {
     "data": {
      "image/png": "[encoded data removed]",
      "text/plain": [
       "<Figure size 432x288 with 1 Axes>"
      ]
     },
     "metadata": {
      "needs_background": "light"
     },
     "output_type": "display_data"
    }
   ],
   "source": [
    "sns.distplot(df['Spending'])"
   ]
  },
  {
   "cell_type": "code",
   "execution_count": 25,
   "metadata": {
    "ExecuteTime": {
     "end_time": "2020-08-08T23:03:52.663866Z",
     "start_time": "2020-08-08T23:03:52.652895Z"
    }
   },
   "outputs": [
    {
     "data": {
      "text/plain": [
       "2.387587398454289e-07"
      ]
     },
     "execution_count": 25,
     "metadata": {},
     "output_type": "execute_result"
    }
   ],
   "source": [
    "stat, p = normaltest(df['Spending'])\n",
    "p"
   ]
  },
  {
   "cell_type": "code",
   "execution_count": 23,
   "metadata": {
    "ExecuteTime": {
     "end_time": "2020-08-08T23:03:03.929143Z",
     "start_time": "2020-08-08T23:03:03.920202Z"
    }
   },
   "outputs": [
    {
     "data": {
      "text/plain": [
       "4.324040673964191e-06"
      ]
     },
     "execution_count": 23,
     "metadata": {},
     "output_type": "execute_result"
    }
   ],
   "source": [
    "stat, p = shapiro(df['Text Messages'])\n",
    "p"
   ]
  },
  {
   "cell_type": "code",
   "execution_count": 24,
   "metadata": {
    "ExecuteTime": {
     "end_time": "2020-08-08T23:03:21.191823Z",
     "start_time": "2020-08-08T23:03:20.971410Z"
    }
   },
   "outputs": [
    {
     "data": {
      "text/plain": [
       "<AxesSubplot:xlabel='Text Messages'>"
      ]
     },
     "execution_count": 24,
     "metadata": {},
     "output_type": "execute_result"
    },
    {
     "data": {
      "image/png": "[encoded data removed]",
      "text/plain": [
       "<Figure size 432x288 with 1 Axes>"
      ]
     },
     "metadata": {
      "needs_background": "light"
     },
     "output_type": "display_data"
    }
   ],
   "source": [
    "sns.distplot(df['Text Messages'])"
   ]
  },
  {
   "cell_type": "code",
   "execution_count": 26,
   "metadata": {
    "ExecuteTime": {
     "end_time": "2020-08-08T23:04:06.779493Z",
     "start_time": "2020-08-08T23:04:06.772513Z"
    }
   },
   "outputs": [
    {
     "data": {
      "text/plain": [
       "0.0002819512224692029"
      ]
     },
     "execution_count": 26,
     "metadata": {},
     "output_type": "execute_result"
    }
   ],
   "source": [
    "stat, p = normaltest(df['Text Messages'])\n",
    "p"
   ]
  },
  {
   "cell_type": "code",
   "execution_count": null,
   "metadata": {},
   "outputs": [],
   "source": []
  }
 ],
 "metadata": {
  "kernelspec": {
   "display_name": "Python 3",
   "language": "python",
   "name": "python3"
  },
  "language_info": {
   "codemirror_mode": {
    "name": "ipython",
    "version": 3
   },
   "file_extension": ".py",
   "mimetype": "text/x-python",
   "name": "python",
   "nbconvert_exporter": "python",
   "pygments_lexer": "ipython3",
   "version": "3.7.6"
  },
  "latex_envs": {
   "LaTeX_envs_menu_present": true,
   "autoclose": false,
   "autocomplete": true,
   "bibliofile": "biblio.bib",
   "cite_by": "apalike",
   "current_citInitial": 1,
   "eqLabelWithNumbers": true,
   "eqNumInitial": 1,
   "hotkeys": {
    "equation": "Ctrl-E",
    "itemize": "Ctrl-I"
   },
   "labels_anchors": false,
   "latex_user_defs": false,
   "report_style_numbering": false,
   "user_envs_cfg": false
  },
  "varInspector": {
   "cols": {
    "lenName": 16,
    "lenType": 16,
    "lenVar": 40
   },
   "kernels_config": {
    "python": {
     "delete_cmd_postfix": "",
     "delete_cmd_prefix": "del ",
     "library": "var_list.py",
     "varRefreshCmd": "print(var_dic_list())"
    },
    "r": {
     "delete_cmd_postfix": ") ",
     "delete_cmd_prefix": "rm(",
     "library": "var_list.r",
     "varRefreshCmd": "cat(var_dic_list()) "
    }
   },
   "types_to_exclude": [
    "module",
    "function",
    "builtin_function_or_method",
    "instance",
    "_Feature"
   ],
   "window_display": false
  }
 },
 "nbformat": 4,
 "nbformat_minor": 4
}
